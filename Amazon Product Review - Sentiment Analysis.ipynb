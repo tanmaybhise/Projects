{
 "cells": [
  {
   "cell_type": "code",
   "execution_count": 339,
   "metadata": {},
   "outputs": [],
   "source": [
    "import pandas as pd\n",
    "import warnings\n",
    "from sklearn.metrics.pairwise import cosine_similarity\n",
    "import tensorflow_hub as hub\n",
    "import tensorflow_text as txt\n",
    "from sklearn.feature_extraction.text import CountVectorizer, TfidfVectorizer\n",
    "from sklearn.model_selection import train_test_split\n",
    "from sklearn.linear_model import LogisticRegression\n",
    "from sklearn.metrics import accuracy_score\n",
    "from sklearn.neighbors import KNeighborsClassifier\n",
    "from sklearn.tree import DecisionTreeClassifier\n",
    "from sklearn.naive_bayes import GaussianNB\n",
    "from sklearn.pipeline import Pipeline\n",
    "from sklearn.model_selection import GridSearchCV\n",
    "\n",
    "from sklearn.svm import SVC\n",
    "import numpy as np\n",
    "import matplotlib.pyplot as plt\n",
    "plt.style.use('ggplot')\n",
    "\n",
    "warnings.filterwarnings('ignore')"
   ]
  },
  {
   "cell_type": "markdown",
   "metadata": {},
   "source": [
    "<h1>Preprocessing Data</h1>"
   ]
  },
  {
   "cell_type": "code",
   "execution_count": 23,
   "metadata": {},
   "outputs": [],
   "source": [
    "#data = pd.read_csv('Amazon_Consumer_Reviews.csv')\n",
    "data = pd.read_csv('Amazon_Consumer_Reviews.csv')\n",
    "reviews = data[['reviews.text', 'reviews.rating']]\n",
    "reviews.columns = ['text', 'rating']"
   ]
  },
  {
   "cell_type": "code",
   "execution_count": 33,
   "metadata": {},
   "outputs": [
    {
     "data": {
      "text/plain": [
       "text      0\n",
       "rating    0\n",
       "dtype: int64"
      ]
     },
     "execution_count": 33,
     "metadata": {},
     "output_type": "execute_result"
    }
   ],
   "source": [
    "reviews.isna().sum()"
   ]
  },
  {
   "cell_type": "code",
   "execution_count": 34,
   "metadata": {},
   "outputs": [
    {
     "name": "stdout",
     "output_type": "stream",
     "text": [
      "Rating count:  {5: 3478, 4: 1208, 3: 197, 1: 63, 2: 54}\n"
     ]
    },
    {
     "data": {
      "image/png": "[encoded data removed]",
      "text/plain": [
       "<Figure size 432x288 with 1 Axes>"
      ]
     },
     "metadata": {
      "needs_background": "light"
     },
     "output_type": "display_data"
    }
   ],
   "source": [
    "print('Rating count: ', reviews.rating.value_counts().to_dict())\n",
    "\n",
    "reviews.rating.hist()\n",
    "plt.xticks([1,2,3,4,5])\n",
    "plt.show()"
   ]
  },
  {
   "cell_type": "code",
   "execution_count": 35,
   "metadata": {},
   "outputs": [
    {
     "name": "stdout",
     "output_type": "stream",
     "text": [
      "Positive reviews (1):  3478 | Negative reviews (0):  314\n",
      "Ratings after sampling\n"
     ]
    },
    {
     "data": {
      "text/plain": [
       "1    314\n",
       "0    314\n",
       "Name: rating, dtype: int64"
      ]
     },
     "execution_count": 35,
     "metadata": {},
     "output_type": "execute_result"
    }
   ],
   "source": [
    "#Handling data imbalance\n",
    "pos = reviews[reviews['rating'] == 5].reset_index(drop=True)\n",
    "neg = reviews[reviews['rating'].isin([1,2,3])].reset_index(drop=True)\n",
    "\n",
    "pos['rating'] = 1\n",
    "neg['rating'] = 0\n",
    "\n",
    "print('Positive reviews (1): ', pos.shape[0], '| Negative reviews (0): ', neg.shape[0])\n",
    "\n",
    "pos_sample = pos.sample(neg.shape[0]).reset_index(drop=True)\n",
    "\n",
    "reviews = pd.concat([pos_sample,neg])\n",
    "\n",
    "print('Ratings after sampling')\n",
    "reviews.rating.value_counts()"
   ]
  },
  {
   "cell_type": "code",
   "execution_count": 36,
   "metadata": {},
   "outputs": [
    {
     "data": {
      "text/html": [
       "<div>\n",
       "<style scoped>\n",
       "    .dataframe tbody tr th:only-of-type {\n",
       "        vertical-align: middle;\n",
       "    }\n",
       "\n",
       "    .dataframe tbody tr th {\n",
       "        vertical-align: top;\n",
       "    }\n",
       "\n",
       "    .dataframe thead th {\n",
       "        text-align: right;\n",
       "    }\n",
       "</style>\n",
       "<table border=\"1\" class=\"dataframe\">\n",
       "  <thead>\n",
       "    <tr style=\"text-align: right;\">\n",
       "      <th></th>\n",
       "      <th>text</th>\n",
       "      <th>rating</th>\n",
       "    </tr>\n",
       "  </thead>\n",
       "  <tbody>\n",
       "    <tr>\n",
       "      <th>183</th>\n",
       "      <td>Super slow, not of decent quality.I would not ...</td>\n",
       "      <td>0</td>\n",
       "    </tr>\n",
       "    <tr>\n",
       "      <th>98</th>\n",
       "      <td>Tablet works will with Amazon video on our sma...</td>\n",
       "      <td>1</td>\n",
       "    </tr>\n",
       "    <tr>\n",
       "      <th>313</th>\n",
       "      <td>Never without my Amazon HD 8 - great for readi...</td>\n",
       "      <td>1</td>\n",
       "    </tr>\n",
       "    <tr>\n",
       "      <th>303</th>\n",
       "      <td>This is not an upgrade by any means! My three ...</td>\n",
       "      <td>0</td>\n",
       "    </tr>\n",
       "    <tr>\n",
       "      <th>99</th>\n",
       "      <td>So slow returning mine for something different...</td>\n",
       "      <td>0</td>\n",
       "    </tr>\n",
       "  </tbody>\n",
       "</table>\n",
       "</div>"
      ],
      "text/plain": [
       "                                                  text  rating\n",
       "183  Super slow, not of decent quality.I would not ...       0\n",
       "98   Tablet works will with Amazon video on our sma...       1\n",
       "313  Never without my Amazon HD 8 - great for readi...       1\n",
       "303  This is not an upgrade by any means! My three ...       0\n",
       "99   So slow returning mine for something different...       0"
      ]
     },
     "execution_count": 36,
     "metadata": {},
     "output_type": "execute_result"
    }
   ],
   "source": [
    "reviews.sample(5)"
   ]
  },
  {
   "cell_type": "markdown",
   "metadata": {},
   "source": [
    "<h1>Predictions on baseline models (with CountVectorizer)</h1>"
   ]
  },
  {
   "cell_type": "code",
   "execution_count": 37,
   "metadata": {},
   "outputs": [],
   "source": [
    "model_performance = pd.DataFrame(columns= ['Model', 'Accuracy'])"
   ]
  },
  {
   "cell_type": "code",
   "execution_count": 38,
   "metadata": {},
   "outputs": [],
   "source": [
    "def make_prediction(text, labels, vectorizer, model):\n",
    "    vectorized_text = vectorizer.fit_transform(text)\n",
    "    X = vectorized_text\n",
    "    y = reviews.rating.values\n",
    "    x_train, x_test, y_train, y_test = train_test_split(X.toarray(), y, test_size=0.15, random_state=0)\n",
    "    model.fit(x_train, y_train)\n",
    "    yhat = model.predict(x_test)\n",
    "    print('Accuracy: ', accuracy_score(y_test, yhat))\n",
    "    return accuracy_score(y_test, yhat)"
   ]
  },
  {
   "cell_type": "code",
   "execution_count": 39,
   "metadata": {},
   "outputs": [
    {
     "name": "stdout",
     "output_type": "stream",
     "text": [
      "Model: Logistic Regression\n",
      "Accuracy:  0.8736842105263158\n"
     ]
    }
   ],
   "source": [
    "print('Model: Logistic Regression')\n",
    "model = 'LogisticRegression'\n",
    "accuracy = make_prediction(reviews.text,reviews.rating, CountVectorizer(stop_words='english'), LogisticRegression())\n",
    "model_performance = model_performance.append({'Model': model, 'Accuracy': accuracy}, ignore_index=True)"
   ]
  },
  {
   "cell_type": "code",
   "execution_count": 40,
   "metadata": {},
   "outputs": [
    {
     "name": "stdout",
     "output_type": "stream",
     "text": [
      "Model: K nearest neighbors classifier\n",
      "Accuracy:  0.6631578947368421\n"
     ]
    }
   ],
   "source": [
    "print('Model: K nearest neighbors classifier')\n",
    "model = 'KNN'\n",
    "accuracy = make_prediction(reviews.text,reviews.rating, CountVectorizer(stop_words='english'), KNeighborsClassifier(n_neighbors=5))\n",
    "model_performance = model_performance.append({'Model': model, 'Accuracy': accuracy}, ignore_index=True)"
   ]
  },
  {
   "cell_type": "code",
   "execution_count": 41,
   "metadata": {},
   "outputs": [
    {
     "name": "stdout",
     "output_type": "stream",
     "text": [
      "Model: Decision Tree\n",
      "Accuracy:  0.7684210526315789\n"
     ]
    }
   ],
   "source": [
    "print('Model: Decision Tree')\n",
    "model = 'DecisionTree'\n",
    "accuracy = make_prediction(reviews.text,reviews.rating, CountVectorizer(stop_words='english'), DecisionTreeClassifier(random_state=0))\n",
    "model_performance = model_performance.append({'Model': model, 'Accuracy': accuracy}, ignore_index=True)"
   ]
  },
  {
   "cell_type": "code",
   "execution_count": 42,
   "metadata": {},
   "outputs": [
    {
     "name": "stdout",
     "output_type": "stream",
     "text": [
      "Model: Gaussian Naive Bays\n",
      "Accuracy:  0.6421052631578947\n"
     ]
    }
   ],
   "source": [
    "print('Model: Gaussian Naive Bays')\n",
    "model= 'GaussianNB'\n",
    "accuracy = make_prediction(reviews.text,reviews.rating, CountVectorizer(stop_words='english'), GaussianNB())\n",
    "model_performance = model_performance.append({'Model': model, 'Accuracy': accuracy}, ignore_index=True)"
   ]
  },
  {
   "cell_type": "code",
   "execution_count": 43,
   "metadata": {},
   "outputs": [
    {
     "name": "stdout",
     "output_type": "stream",
     "text": [
      "Model: Support Vector Classifier\n",
      "Accuracy:  0.49473684210526314\n"
     ]
    }
   ],
   "source": [
    "print('Model: Support Vector Classifier')\n",
    "model = 'SVC'\n",
    "accuracy = make_prediction(reviews.text,reviews.rating, CountVectorizer(stop_words='english'), SVC(gamma='auto'))\n",
    "model_performance = model_performance.append({'Model': model, 'Accuracy': accuracy}, ignore_index=True)"
   ]
  },
  {
   "cell_type": "code",
   "execution_count": 44,
   "metadata": {},
   "outputs": [],
   "source": [
    "cv_performance = model_performance.copy().sort_values(by='Accuracy', ascending=False).reset_index(drop=True)"
   ]
  },
  {
   "cell_type": "code",
   "execution_count": 45,
   "metadata": {},
   "outputs": [
    {
     "data": {
      "image/png": "[encoded data removed]",
      "text/plain": [
       "<Figure size 432x288 with 1 Axes>"
      ]
     },
     "metadata": {
      "needs_background": "light"
     },
     "output_type": "display_data"
    }
   ],
   "source": [
    "model_performance = model_performance.sort_values(by='Accuracy', ascending=False)\n",
    "plt.bar(x=model_performance['Model'], height=model_performance['Accuracy'])\n",
    "plt.title('Baseline model performace with CountVectorizer')\n",
    "plt.xticks(rotation=45);"
   ]
  },
  {
   "cell_type": "markdown",
   "metadata": {},
   "source": [
    "<h1>Predictions on baseline models (with TF-IDF Vectorizer)</h1>"
   ]
  },
  {
   "cell_type": "code",
   "execution_count": 69,
   "metadata": {},
   "outputs": [],
   "source": [
    "model_performance = pd.DataFrame(columns= ['Model', 'Accuracy'])"
   ]
  },
  {
   "cell_type": "code",
   "execution_count": 70,
   "metadata": {},
   "outputs": [
    {
     "name": "stdout",
     "output_type": "stream",
     "text": [
      "Model: Logistic Regression\n",
      "Accuracy:  0.8842105263157894\n"
     ]
    }
   ],
   "source": [
    "print('Model: Logistic Regression')\n",
    "model = 'LogisticRegression'\n",
    "accuracy = make_prediction(reviews.text,reviews.rating, TfidfVectorizer(stop_words='english', ngram_range=(1, 2)), LogisticRegression())\n",
    "model_performance = model_performance.append({'Model': model, 'Accuracy': accuracy}, ignore_index=True)"
   ]
  },
  {
   "cell_type": "code",
   "execution_count": 71,
   "metadata": {},
   "outputs": [
    {
     "name": "stdout",
     "output_type": "stream",
     "text": [
      "Model: K nearest neighbors classifier\n",
      "Accuracy:  0.6842105263157895\n"
     ]
    }
   ],
   "source": [
    "print('Model: K nearest neighbors classifier')\n",
    "model = 'KNN'\n",
    "accuracy = make_prediction(reviews.text,reviews.rating, TfidfVectorizer(stop_words='english', ngram_range=(1, 2)), KNeighborsClassifier(n_neighbors=5))\n",
    "model_performance = model_performance.append({'Model': model, 'Accuracy': accuracy}, ignore_index=True)"
   ]
  },
  {
   "cell_type": "code",
   "execution_count": 72,
   "metadata": {},
   "outputs": [
    {
     "name": "stdout",
     "output_type": "stream",
     "text": [
      "Model: Decision Tree\n",
      "Accuracy:  0.8421052631578947\n"
     ]
    }
   ],
   "source": [
    "print('Model: Decision Tree')\n",
    "model = 'DecisionTree'\n",
    "accuracy = make_prediction(reviews.text,reviews.rating, TfidfVectorizer(stop_words='english', ngram_range=(1, 2)), DecisionTreeClassifier(random_state=0))\n",
    "model_performance = model_performance.append({'Model': model, 'Accuracy': accuracy}, ignore_index=True)"
   ]
  },
  {
   "cell_type": "code",
   "execution_count": 73,
   "metadata": {},
   "outputs": [
    {
     "name": "stdout",
     "output_type": "stream",
     "text": [
      "Model: Gaussian Naive Bays\n",
      "Accuracy:  0.6842105263157895\n"
     ]
    }
   ],
   "source": [
    "print('Model: Gaussian Naive Bays')\n",
    "model= 'GaussianNB'\n",
    "accuracy = make_prediction(reviews.text,reviews.rating, TfidfVectorizer(stop_words='english', ngram_range=(1, 2)), GaussianNB())\n",
    "model_performance = model_performance.append({'Model': model, 'Accuracy': accuracy}, ignore_index=True)"
   ]
  },
  {
   "cell_type": "code",
   "execution_count": 74,
   "metadata": {},
   "outputs": [
    {
     "name": "stdout",
     "output_type": "stream",
     "text": [
      "Model: Support Vector Classifier\n",
      "Accuracy:  0.49473684210526314\n"
     ]
    }
   ],
   "source": [
    "print('Model: Support Vector Classifier')\n",
    "model = 'SVC'\n",
    "accuracy = make_prediction(reviews.text,reviews.rating, TfidfVectorizer(stop_words='english', ngram_range=(1, 2)), SVC(gamma='auto'))\n",
    "model_performance = model_performance.append({'Model': model, 'Accuracy': accuracy}, ignore_index=True)"
   ]
  },
  {
   "cell_type": "code",
   "execution_count": 75,
   "metadata": {},
   "outputs": [],
   "source": [
    "tfidf_performance = model_performance.copy().sort_values(by='Accuracy', ascending=False).reset_index(drop=True)"
   ]
  },
  {
   "cell_type": "code",
   "execution_count": 76,
   "metadata": {},
   "outputs": [
    {
     "data": {
      "image/png": "[encoded data removed]",
      "text/plain": [
       "<Figure size 432x288 with 1 Axes>"
      ]
     },
     "metadata": {
      "needs_background": "light"
     },
     "output_type": "display_data"
    }
   ],
   "source": [
    "model_performance = model_performance.sort_values(by='Accuracy', ascending=False)\n",
    "plt.bar(x=model_performance['Model'], height=model_performance['Accuracy'])\n",
    "plt.title('Baseline model performace with TfidfVectorizer')\n",
    "plt.xticks(rotation=45);"
   ]
  },
  {
   "cell_type": "code",
   "execution_count": 77,
   "metadata": {},
   "outputs": [
    {
     "data": {
      "image/png": "[encoded data removed]",
      "text/plain": [
       "<Figure size 432x288 with 1 Axes>"
      ]
     },
     "metadata": {
      "needs_background": "light"
     },
     "output_type": "display_data"
    }
   ],
   "source": [
    "plt.bar(x=range(cv_performance.shape[0]), height=cv_performance['Accuracy'], width=0.25, label='CountVectorizer')\n",
    "plt.bar(x=np.array(range(tfidf_performance.shape[0]))+0.25, height=tfidf_performance['Accuracy'], width=0.25, label='TF-IDF')\n",
    "plt.xticks(range(cv_performance.shape[0]), cv_performance['Model'], rotation=45)\n",
    "plt.legend();"
   ]
  },
  {
   "cell_type": "code",
   "execution_count": 78,
   "metadata": {},
   "outputs": [],
   "source": [
    "if tfidf_performance['Accuracy'].loc[0] > cv_performance['Accuracy'].loc[0]:\n",
    "    best = tfidf_performance.copy()\n",
    "else:\n",
    "    best = cv_performance.copy()"
   ]
  },
  {
   "cell_type": "code",
   "execution_count": 80,
   "metadata": {},
   "outputs": [
    {
     "name": "stdout",
     "output_type": "stream",
     "text": [
      "Model performs relatively better on TF-IDF vectorizer\n",
      "Best performing baseline model: LogisticRegression, Accuracy: 0.8842105263157894\n"
     ]
    }
   ],
   "source": [
    "print('Model performs relatively better on TF-IDF vectorizer')\n",
    "print(f'Best performing baseline model: {best.loc[0].values[0]}, Accuracy: {best.loc[0].values[1]}')"
   ]
  },
  {
   "cell_type": "markdown",
   "metadata": {},
   "source": [
    "<h1>Hyperparameter tuning to optimize models</h1>"
   ]
  },
  {
   "cell_type": "code",
   "execution_count": 81,
   "metadata": {},
   "outputs": [],
   "source": [
    "model_performance = pd.DataFrame(columns= ['Model', 'Accuracy'])"
   ]
  },
  {
   "cell_type": "code",
   "execution_count": 82,
   "metadata": {},
   "outputs": [],
   "source": [
    "def optimize_model(text, labels, model, parameters):\n",
    "    vectorizer = TfidfVectorizer(stop_words='english', ngram_range=(1, 2))\n",
    "    vectorized_text = vectorizer.fit_transform(text)\n",
    "    X = vectorized_text\n",
    "    y = labels\n",
    "    x_train, x_test, y_train, y_test = train_test_split(X.toarray(), y, test_size=0.15, random_state=0)\n",
    "    clf = GridSearchCV(model, parameters)\n",
    "    clf.fit(x_train, y_train)\n",
    "    yhat = clf.predict(x_test)\n",
    "    print('Accuracy: ', accuracy_score(y_test, yhat))\n",
    "    return accuracy_score(y_test, yhat)"
   ]
  },
  {
   "cell_type": "code",
   "execution_count": 83,
   "metadata": {},
   "outputs": [
    {
     "name": "stdout",
     "output_type": "stream",
     "text": [
      "LogisticRegression\n",
      "Accuracy:  0.9052631578947369\n"
     ]
    }
   ],
   "source": [
    "model = 'LogisticRegression'\n",
    "print(model)\n",
    "accuracy = optimize_model(reviews.text, reviews.rating.values, LogisticRegression(), {'penalty': ['l2'], 'C': [100, 10, 1.0, 0.1, 0.01]})\n",
    "model_performance = model_performance.append({'Model': model, 'Accuracy': accuracy}, ignore_index=True)"
   ]
  },
  {
   "cell_type": "code",
   "execution_count": 84,
   "metadata": {},
   "outputs": [
    {
     "name": "stdout",
     "output_type": "stream",
     "text": [
      "KNN\n",
      "Accuracy:  0.7789473684210526\n"
     ]
    }
   ],
   "source": [
    "model = 'KNN'\n",
    "print(model)\n",
    "accuracy = optimize_model(reviews.text, reviews.rating.values, KNeighborsClassifier(), {'n_neighbors': range(1, 21, 2), 'weights': ['uniform', 'distance'], 'metric': ['euclidean', 'manhattan', 'minkowski']})\n",
    "model_performance = model_performance.append({'Model': model, 'Accuracy': accuracy}, ignore_index=True)"
   ]
  },
  {
   "cell_type": "code",
   "execution_count": 85,
   "metadata": {},
   "outputs": [
    {
     "name": "stdout",
     "output_type": "stream",
     "text": [
      "DecisionTree\n",
      "Accuracy:  0.8421052631578947\n"
     ]
    }
   ],
   "source": [
    "model = 'DecisionTree'\n",
    "print(model)\n",
    "accuracy = optimize_model(reviews.text, reviews.rating.values, DecisionTreeClassifier(random_state=0), {'criterion':('gini', 'entropy')})\n",
    "model_performance = model_performance.append({'Model': model, 'Accuracy': accuracy}, ignore_index=True)"
   ]
  },
  {
   "cell_type": "code",
   "execution_count": 86,
   "metadata": {},
   "outputs": [
    {
     "name": "stdout",
     "output_type": "stream",
     "text": [
      "Model: Gaussian Naive Bays\n",
      "Accuracy:  0.7052631578947368\n"
     ]
    }
   ],
   "source": [
    "print('Model: Gaussian Naive Bays')\n",
    "model= 'GaussianNB'\n",
    "accuracy = optimize_model(reviews.text, reviews.rating.values, GaussianNB(), {'var_smoothing': np.logspace(0,-9, num=100)})\n",
    "model_performance = model_performance.append({'Model': model, 'Accuracy': accuracy}, ignore_index=True)"
   ]
  },
  {
   "cell_type": "code",
   "execution_count": 87,
   "metadata": {},
   "outputs": [
    {
     "name": "stdout",
     "output_type": "stream",
     "text": [
      "SVC\n",
      "Accuracy:  0.8842105263157894\n"
     ]
    }
   ],
   "source": [
    "model = 'SVC'\n",
    "print(model)\n",
    "accuracy = optimize_model(reviews.text, reviews.rating.values, SVC(), {'kernel':('linear', 'rbf'), 'C':[1, 10]})\n",
    "model_performance = model_performance.append({'Model': model, 'Accuracy': accuracy}, ignore_index=True)"
   ]
  },
  {
   "cell_type": "code",
   "execution_count": 88,
   "metadata": {},
   "outputs": [],
   "source": [
    "optimized_performance = model_performance.copy()"
   ]
  },
  {
   "cell_type": "code",
   "execution_count": 89,
   "metadata": {},
   "outputs": [
    {
     "data": {
      "image/png": "[encoded data removed]",
      "text/plain": [
       "<Figure size 432x288 with 1 Axes>"
      ]
     },
     "metadata": {
      "needs_background": "light"
     },
     "output_type": "display_data"
    }
   ],
   "source": [
    "optimized_performance = optimized_performance.sort_values(by='Accuracy', ascending=False)\n",
    "plt.bar(x=optimized_performance['Model'], height=optimized_performance['Accuracy'])\n",
    "plt.title('Optimized model performace with CountVectorier')\n",
    "plt.xticks(rotation=45);"
   ]
  },
  {
   "cell_type": "code",
   "execution_count": 90,
   "metadata": {},
   "outputs": [
    {
     "data": {
      "image/png": "[encoded data removed]",
      "text/plain": [
       "<Figure size 432x288 with 1 Axes>"
      ]
     },
     "metadata": {
      "needs_background": "light"
     },
     "output_type": "display_data"
    }
   ],
   "source": [
    "optimized_performance = optimized_performance.sort_values(by='Model')\n",
    "best = best.sort_values(by='Model')\n",
    "plt.bar(x=range(best.shape[0]), height=best['Accuracy'], width=0.25, label='Baseline')\n",
    "plt.bar(x=np.array(range(optimized_performance.shape[0]))+0.25, height=optimized_performance['Accuracy'], width=0.25, label='Optimized')\n",
    "plt.xticks(range(optimized_performance.shape[0]), optimized_performance['Model'], rotation=45)\n",
    "plt.legend();"
   ]
  },
  {
   "cell_type": "markdown",
   "metadata": {},
   "source": [
    "<b>Overall, optimized Logistic Regression model is the best model for intent classsification on given dataset<b>"
   ]
  },
  {
   "cell_type": "code",
   "execution_count": 91,
   "metadata": {},
   "outputs": [
    {
     "name": "stdout",
     "output_type": "stream",
     "text": [
      "Best performing baseline model: LogisticRegression, Accuracy: 0.9052631578947369\n"
     ]
    }
   ],
   "source": [
    "optimized_performance = model_performance.sort_values(by='Accuracy', ascending=False).reset_index(drop=True)\n",
    "print(f'Best performing baseline model: {optimized_performance.loc[0].values[0]}, Accuracy: {optimized_performance.loc[0].values[1]}')"
   ]
  },
  {
   "cell_type": "markdown",
   "metadata": {},
   "source": [
    "<h2>Deep Neural Network with Embedding</h2>"
   ]
  },
  {
   "cell_type": "code",
   "execution_count": 367,
   "metadata": {},
   "outputs": [],
   "source": [
    "data = pd.read_csv('Amazon_Consumer_Reviews_of_Amazon_Products.csv')\n",
    "reviews = data[['reviews.text', 'reviews.rating']]\n",
    "reviews.columns = ['text', 'rating']"
   ]
  },
  {
   "cell_type": "code",
   "execution_count": 368,
   "metadata": {},
   "outputs": [
    {
     "name": "stdout",
     "output_type": "stream",
     "text": [
      "Positive reviews (1):  19897 | Negative reviews (0):  2787\n",
      "Ratings after sampling\n"
     ]
    },
    {
     "data": {
      "text/plain": [
       "1    2787\n",
       "0    2787\n",
       "Name: rating, dtype: int64"
      ]
     },
     "execution_count": 368,
     "metadata": {},
     "output_type": "execute_result"
    }
   ],
   "source": [
    "#Handling data imbalance\n",
    "pos = reviews[reviews['rating'] == 5].reset_index(drop=True)\n",
    "neg = reviews[reviews['rating'].isin([1,2,3])].reset_index(drop=True)\n",
    "\n",
    "pos['rating'] = 1\n",
    "neg['rating'] = 0\n",
    "\n",
    "print('Positive reviews (1): ', pos.shape[0], '| Negative reviews (0): ', neg.shape[0])\n",
    "\n",
    "pos_sample = pos.sample(neg.shape[0]).reset_index(drop=True)\n",
    "\n",
    "reviews = pd.concat([pos_sample,neg])\n",
    "\n",
    "print('Ratings after sampling')\n",
    "reviews.rating.value_counts()"
   ]
  },
  {
   "cell_type": "code",
   "execution_count": 369,
   "metadata": {},
   "outputs": [],
   "source": [
    "from tensorflow import keras\n",
    "from tensorflow.keras.preprocessing.text import one_hot\n",
    "from tensorflow.keras.preprocessing.sequence import pad_sequences"
   ]
  },
  {
   "cell_type": "code",
   "execution_count": 370,
   "metadata": {},
   "outputs": [],
   "source": [
    "X = reviews['text'].map(lambda x: one_hot(x, 10000, lower=True)).values\n",
    "y = reviews['rating'].values\n",
    "df = pd.DataFrame([X,y]).T\n",
    "df.columns = ['text', 'rating']\n",
    "X = pad_sequences(df['text'].values).astype(float)\n",
    "y = df['rating'].values.astype(float)"
   ]
  },
  {
   "cell_type": "code",
   "execution_count": 371,
   "metadata": {},
   "outputs": [],
   "source": [
    "x_train, x_test, y_train, y_test = train_test_split(X, y, test_size=0.15, random_state=0)"
   ]
  },
  {
   "cell_type": "code",
   "execution_count": 372,
   "metadata": {},
   "outputs": [],
   "source": [
    "model = keras.Sequential()\n",
    "model.add(keras.layers.Embedding(10000, 128, input_length = x_train.shape[1]))\n",
    "model.add(keras.layers.Bidirectional(keras.layers.LSTM(128, return_sequences = True)))\n",
    "model.add(keras.layers.Bidirectional(keras.layers.LSTM(64)))\n",
    "model.add(keras.layers.Dropout(0.5))\n",
    "model.add(keras.layers.Dense(128, activation='relu'))\n",
    "model.add(keras.layers.Dropout(0.5))\n",
    "model.add(keras.layers.Dense(64, activation='relu'))\n",
    "model.add(keras.layers.Dense(1, activation='sigmoid'))"
   ]
  },
  {
   "cell_type": "code",
   "execution_count": 373,
   "metadata": {},
   "outputs": [],
   "source": [
    "model.compile(optimizer='adam', loss='binary_crossentropy', metrics=['accuracy'])"
   ]
  },
  {
   "cell_type": "code",
   "execution_count": 374,
   "metadata": {
    "scrolled": true
   },
   "outputs": [
    {
     "name": "stdout",
     "output_type": "stream",
     "text": [
      "Epoch 1/5\n",
      "149/149 [==============================] - 472s 3s/step - loss: 0.5392 - accuracy: 0.7102 - val_loss: 0.6791 - val_accuracy: 0.5890\n",
      "Epoch 2/5\n",
      "149/149 [==============================] - 414s 3s/step - loss: 0.3630 - accuracy: 0.8507 - val_loss: 0.3432 - val_accuracy: 0.8698\n",
      "Epoch 3/5\n",
      "149/149 [==============================] - 416s 3s/step - loss: 0.2277 - accuracy: 0.9246 - val_loss: 0.3440 - val_accuracy: 0.8722\n",
      "Epoch 4/5\n",
      "149/149 [==============================] - 368s 2s/step - loss: 0.1567 - accuracy: 0.9510 - val_loss: 0.3898 - val_accuracy: 0.8877\n",
      "Epoch 5/5\n",
      "149/149 [==============================] - 393s 3s/step - loss: 0.1205 - accuracy: 0.9597 - val_loss: 0.4255 - val_accuracy: 0.8686\n"
     ]
    }
   ],
   "source": [
    "epochs = 5\n",
    "checkpoint_filepath = './tmp/checkpoint'\n",
    "model_checkpoint_callback = keras.callbacks.ModelCheckpoint(\n",
    "    filepath=checkpoint_filepath,\n",
    "    save_weights_only=True,\n",
    "    monitor='val_accuracy',\n",
    "    mode='max',\n",
    "    save_best_only=True)\n",
    "history = model.fit(x_train, y_train, epochs=epochs, verbose=1, validation_data=(x_test, y_test), callbacks=[model_checkpoint_callback])"
   ]
  },
  {
   "cell_type": "code",
   "execution_count": 375,
   "metadata": {},
   "outputs": [
    {
     "data": {
      "text/plain": [
       "Text(0.5, 1.0, 'loss')"
      ]
     },
     "execution_count": 375,
     "metadata": {},
     "output_type": "execute_result"
    },
    {
     "data": {
      "image/png": "[encoded data removed]",
      "text/plain": [
       "<Figure size 1440x504 with 2 Axes>"
      ]
     },
     "metadata": {},
     "output_type": "display_data"
    }
   ],
   "source": [
    "plt.figure(figsize=(20,7))\n",
    "\n",
    "plt.subplot(1,2,1)\n",
    "plt.plot(range(epochs), history.history['accuracy'], label='train')\n",
    "plt.plot(range(epochs), history.history['val_accuracy'], label='validation')\n",
    "plt.legend()\n",
    "plt.title('accuracy')\n",
    "\n",
    "plt.subplot(1,2,2)\n",
    "plt.plot(range(epochs), history.history['loss'], label='train')\n",
    "plt.plot(range(epochs), history.history['val_loss'], label='validation')\n",
    "plt.legend()\n",
    "plt.title('loss')"
   ]
  },
  {
   "cell_type": "markdown",
   "metadata": {},
   "source": [
    "<b>Model starts to overfit after second epoch since validation loss start to increase while training loss continues to decrease.</b>"
   ]
  },
  {
   "cell_type": "code",
   "execution_count": 386,
   "metadata": {},
   "outputs": [
    {
     "data": {
      "text/plain": [
       "<tensorflow.python.training.tracking.util.CheckpointLoadStatus at 0x2738a977a08>"
      ]
     },
     "execution_count": 386,
     "metadata": {},
     "output_type": "execute_result"
    }
   ],
   "source": [
    "model.load_weights(checkpoint_filepath)"
   ]
  },
  {
   "cell_type": "code",
   "execution_count": 387,
   "metadata": {},
   "outputs": [
    {
     "name": "stdout",
     "output_type": "stream",
     "text": [
      "Neural Netork accuracy on test dataset:  0.8876941204071045\n"
     ]
    }
   ],
   "source": [
    "yhat = model.predict(x_test)\n",
    "print('Neural Netork accuracy on test dataset: ', model.evaluate(x_test, y_test, verbose=0)[1])"
   ]
  },
  {
   "cell_type": "code",
   "execution_count": 388,
   "metadata": {},
   "outputs": [
    {
     "name": "stdout",
     "output_type": "stream",
     "text": [
      "Neural Netork accuracy on train dataset:  0.971712052822113\n"
     ]
    }
   ],
   "source": [
    "print('Neural Netork accuracy on train dataset: ', model.evaluate(x_train, y_train, verbose=0)[1])"
   ]
  },
  {
   "cell_type": "markdown",
   "metadata": {},
   "source": [
    "<h1>Transfer Learning (BERT)</h1>"
   ]
  },
  {
   "cell_type": "markdown",
   "metadata": {},
   "source": [
    "<h2>Preprocess text</h2>"
   ]
  },
  {
   "cell_type": "code",
   "execution_count": 389,
   "metadata": {},
   "outputs": [],
   "source": [
    "data = pd.read_csv('Amazon_Consumer_Reviews.csv')\n",
    "reviews = data[['reviews.text', 'reviews.rating']]\n",
    "reviews.columns = ['text', 'rating']"
   ]
  },
  {
   "cell_type": "code",
   "execution_count": 390,
   "metadata": {},
   "outputs": [
    {
     "name": "stdout",
     "output_type": "stream",
     "text": [
      "Positive reviews (1):  3478 | Negative reviews (0):  314\n",
      "Ratings after sampling\n"
     ]
    },
    {
     "data": {
      "text/plain": [
       "1    314\n",
       "0    314\n",
       "Name: rating, dtype: int64"
      ]
     },
     "execution_count": 390,
     "metadata": {},
     "output_type": "execute_result"
    }
   ],
   "source": [
    "#Handling data imbalance\n",
    "pos = reviews[reviews['rating'] == 5].reset_index(drop=True)\n",
    "neg = reviews[reviews['rating'].isin([1,2,3])].reset_index(drop=True)\n",
    "\n",
    "pos['rating'] = 1\n",
    "neg['rating'] = 0\n",
    "\n",
    "print('Positive reviews (1): ', pos.shape[0], '| Negative reviews (0): ', neg.shape[0])\n",
    "\n",
    "pos_sample = pos.sample(neg.shape[0]).reset_index(drop=True)\n",
    "\n",
    "reviews = pd.concat([pos_sample,neg])\n",
    "\n",
    "print('Ratings after sampling')\n",
    "reviews.rating.value_counts()"
   ]
  },
  {
   "cell_type": "code",
   "execution_count": 391,
   "metadata": {},
   "outputs": [],
   "source": [
    "pre_processor = 'https://tfhub.dev/tensorflow/bert_en_uncased_preprocess/3'\n",
    "encoder = 'https://tfhub.dev/tensorflow/bert_en_uncased_L-12_H-768_A-12/4'"
   ]
  },
  {
   "cell_type": "code",
   "execution_count": 392,
   "metadata": {},
   "outputs": [],
   "source": [
    "preprocess = hub.KerasLayer(pre_processor)"
   ]
  },
  {
   "cell_type": "code",
   "execution_count": 393,
   "metadata": {},
   "outputs": [],
   "source": [
    "preprocessed_text = preprocess(reviews.text)"
   ]
  },
  {
   "cell_type": "code",
   "execution_count": 394,
   "metadata": {},
   "outputs": [],
   "source": [
    "encode = hub.KerasLayer(encoder)"
   ]
  },
  {
   "cell_type": "code",
   "execution_count": 395,
   "metadata": {},
   "outputs": [],
   "source": [
    "bert_result = encode(preprocessed_text)"
   ]
  },
  {
   "cell_type": "code",
   "execution_count": 396,
   "metadata": {},
   "outputs": [],
   "source": [
    "X = bert_result['pooled_output']\n",
    "y = reviews.rating.values"
   ]
  },
  {
   "cell_type": "code",
   "execution_count": 397,
   "metadata": {},
   "outputs": [],
   "source": [
    "x_train, x_test, y_train, y_test = train_test_split(X.numpy(), y, test_size=0.15, random_state=0)"
   ]
  },
  {
   "cell_type": "code",
   "execution_count": 398,
   "metadata": {},
   "outputs": [],
   "source": [
    "model = LogisticRegression()\n",
    "parameters = {'penalty': ['l1', 'l2'], 'C': [100, 10, 1.0, 0.1, 0.01]}"
   ]
  },
  {
   "cell_type": "code",
   "execution_count": 399,
   "metadata": {},
   "outputs": [
    {
     "name": "stdout",
     "output_type": "stream",
     "text": [
      "Accuracy:  0.8631578947368421\n"
     ]
    }
   ],
   "source": [
    "clf = GridSearchCV(model, parameters)\n",
    "clf.fit(x_train, y_train)\n",
    "yhat = clf.predict(x_test)\n",
    "print('Accuracy: ', accuracy_score(y_test, yhat))"
   ]
  },
  {
   "cell_type": "markdown",
   "metadata": {},
   "source": [
    "<b>Conclusion</b>"
   ]
  },
  {
   "cell_type": "markdown",
   "metadata": {},
   "source": [
    "This study concludes that for given dataset Logistic Regression model with TF-IDF vectorizer is the best performing machine learning model with accuracy of 90.5%. Neural Network with Bidirections LSTM is the second best performing model with accuracy 88.7 %. Lastly, machine learning technique called Transfer Learning has been implemented using pre-trained BERT model on Logistic Regression. This model performace is relatively lower than earlier discussed model with accuracy of 86.3 %."
   ]
  },
  {
   "cell_type": "code",
   "execution_count": null,
   "metadata": {},
   "outputs": [],
   "source": []
  }
 ],
 "metadata": {
  "kernelspec": {
   "display_name": "Python 3",
   "language": "python",
   "name": "python3"
  }
 },
 "nbformat": 4,
 "nbformat_minor": 2
}
